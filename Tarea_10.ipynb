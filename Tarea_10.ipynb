{
  "nbformat": 4,
  "nbformat_minor": 0,
  "metadata": {
    "colab": {
      "provenance": [],
      "authorship_tag": "ABX9TyNmYfR8x3f3kbl0UNdijj98",
      "include_colab_link": true
    },
    "kernelspec": {
      "name": "python3",
      "display_name": "Python 3"
    },
    "language_info": {
      "name": "python"
    }
  },
  "cells": [
    {
      "cell_type": "markdown",
      "metadata": {
        "id": "view-in-github",
        "colab_type": "text"
      },
      "source": [
        "<a href=\"https://colab.research.google.com/github/David-Arciniegas/Tarea-10-MN/blob/main/Tarea_10.ipynb\" target=\"_parent\"><img src=\"https://colab.research.google.com/assets/colab-badge.svg\" alt=\"Open In Colab\"/></a>"
      ]
    },
    {
      "cell_type": "code",
      "execution_count": 1,
      "metadata": {
        "colab": {
          "base_uri": "https://localhost:8080/"
        },
        "id": "KgnDY28Ov3Tm",
        "outputId": "4cc52dff-7d8e-4d71-d8c0-4c19f4a62b76"
      },
      "outputs": [
        {
          "output_type": "stream",
          "name": "stdout",
          "text": [
            "Matriz a:\n",
            "L =\n",
            "[[1.  0.  0. ]\n",
            " [1.5 1.  0. ]\n",
            " [1.5 1.  1. ]]\n",
            "U =\n",
            "[[ 2.  -1.   1. ]\n",
            " [ 0.   4.5  7.5]\n",
            " [ 0.   0.  -4. ]]\n",
            "\n",
            "\n",
            "Matriz b:\n",
            "L =\n",
            "[[ 1.          0.          0.        ]\n",
            " [-2.10671937  1.          0.        ]\n",
            " [ 3.06719368  1.19775553  1.        ]]\n",
            "U =\n",
            "[[ 1.012      -2.132       3.104     ]\n",
            " [ 0.         -0.39552569 -0.47374308]\n",
            " [ 0.          0.         -8.93914077]]\n",
            "\n",
            "\n",
            "Matriz c:\n",
            "L =\n",
            "[[ 1.          0.          0.          0.        ]\n",
            " [ 0.5         1.          0.          0.        ]\n",
            " [ 0.         -2.          1.          0.        ]\n",
            " [ 1.         -1.33333333  2.          1.        ]]\n",
            "U =\n",
            "[[2.  0.  0.  0. ]\n",
            " [0.  1.5 0.  0. ]\n",
            " [0.  0.  0.5 0. ]\n",
            " [0.  0.  0.  1. ]]\n",
            "\n",
            "\n",
            "Matriz d:\n",
            "L =\n",
            "[[ 1.          0.          0.          0.        ]\n",
            " [-1.84919103  1.          0.          0.        ]\n",
            " [-0.45964332 -0.25012194  1.          0.        ]\n",
            " [ 2.76866152 -0.30794361 -5.35228302  1.        ]]\n",
            "U =\n",
            "[[ 2.1756      4.0231     -2.1732      5.1967    ]\n",
            " [ 0.         13.43948042 -4.01866194 10.80699101]\n",
            " [ 0.          0.         -0.89295239  5.09169403]\n",
            " [ 0.          0.          0.         12.03612803]]\n",
            "\n",
            "\n"
          ]
        }
      ],
      "source": [
        "import numpy as np\n",
        "\n",
        "def lu_decomposition(A):\n",
        "    n = len(A)\n",
        "    L = np.eye(n)  # Matriz identidad de tamaño n\n",
        "    U = np.zeros((n, n))\n",
        "\n",
        "    for j in range(n):\n",
        "        # Calcular elementos de U\n",
        "        for i in range(j+1):\n",
        "            U[i][j] = A[i][j] - sum(L[i][k] * U[k][j] for k in range(i))\n",
        "\n",
        "        # Calcular elementos de L\n",
        "        for i in range(j, n):\n",
        "            if U[j][j] == 0:\n",
        "                raise ZeroDivisionError(\"Element in U is zero, cannot continue with LU decomposition.\")\n",
        "            L[i][j] = (A[i][j] - sum(L[i][k] * U[k][j] for k in range(j))) / U[j][j]\n",
        "\n",
        "    return L, U\n",
        "\n",
        "# Matrices del ejercicio\n",
        "matrices = {\n",
        "    'a': np.array([[2, -1, 1], [3, 3, 9], [3, 3, 5]]),\n",
        "    'b': np.array([[1.012, -2.132, 3.104], [-2.132, 4.096, -7.013], [3.104, -7.013, 0.014]]),\n",
        "    'c': np.array([[2, 0, 0, 0], [1, 1.5, 0, 0], [0, -3, 0.5, 0], [2, -2, 1, 1]]),\n",
        "    'd': np.array([[2.1756, 4.0231, -2.1732, 5.1967], [-4.0231, 6.0000, 0, 1.1973], [-1.0000, -5.2107, 1.1111, 0], [6.0235, 7.0000, 0, -4.1561]])\n",
        "}\n",
        "\n",
        "# Aplicando la descomposición LU a cada matriz\n",
        "for key, matrix in matrices.items():\n",
        "    L, U = lu_decomposition(matrix)\n",
        "    print(f\"Matriz {key}:\")\n",
        "    print(\"L =\")\n",
        "    print(L)\n",
        "    print(\"U =\")\n",
        "    print(U)\n",
        "    print(\"\\n\")\n"
      ]
    },
    {
      "cell_type": "code",
      "source": [
        "import numpy as np\n",
        "\n",
        "def lu_decomposition(A):\n",
        "    n = len(A)\n",
        "    L = np.eye(n)\n",
        "    U = np.zeros((n, n))\n",
        "\n",
        "    for j in range(n):\n",
        "        for i in range(j+1):\n",
        "            U[i][j] = A[i][j] - sum(L[i][k] * U[k][j] for k in range(i))\n",
        "        for i in range(j, n):\n",
        "            if U[j][j] == 0:\n",
        "                raise ZeroDivisionError(\"Element in U is zero, cannot continue with LU decomposition.\")\n",
        "            L[i][j] = (A[i][j] - sum(L[i][k] * U[k][j] for k in range(j))) / U[j][j]\n",
        "\n",
        "    return L, U\n",
        "\n",
        "def forward_substitution(L, b):\n",
        "    n = len(b)\n",
        "    y = np.zeros(n)\n",
        "    for i in range(n):\n",
        "        y[i] = b[i] - sum(L[i][j] * y[j] for j in range(i))\n",
        "    return y\n",
        "\n",
        "def backward_substitution(U, y):\n",
        "    n = len(y)\n",
        "    x = np.zeros(n)\n",
        "    for i in range(n-1, -1, -1):\n",
        "        x[i] = (y[i] - sum(U[i][j] * x[j] for j in range(i+1, n))) / U[i][i]\n",
        "    return x\n",
        "\n",
        "def solve_lu(A, b):\n",
        "    L, U = lu_decomposition(A)\n",
        "    y = forward_substitution(L, b)\n",
        "    x = backward_substitution(U, y)\n",
        "    return x\n",
        "\n",
        "# Definición de los sistemas de ecuaciones\n",
        "sistemas = {\n",
        "    'a': (np.array([[2, -1, 1], [3, 3, 9], [3, 3, 5]]), np.array([-1, 0, 4])),\n",
        "    'b': (np.array([[1.012, -2.132, 3.104], [-2.132, 4.096, -7.013], [3.104, -7.013, 0.014]]), np.array([1.984, -5.049, -3.895])),\n",
        "    'c': (np.array([[2, 0, 0, 0], [1, 1.5, 0, 0], [0, -3, 0.5, 0], [2, -2, 1, 1]]), np.array([3, 4.5, -6.6, 0.8])),\n",
        "    'd': (np.array([[2.1756, 4.0231, -2.1732, 5.1967], [-4.0231, 6.0000, 0, 1.1973], [-1.0000, -5.2107, 1.1111, 0], [6.0235, 7.0000, 0, -4.1561]]), np.array([17.102, -6.1593, 3.0004, 0]))\n",
        "}\n",
        "\n",
        "# Resolviendo cada sistema de ecuaciones\n",
        "for key, (A, b) in sistemas.items():\n",
        "    x = solve_lu(A, b)\n",
        "    print(f\"Solución para el sistema {key}: {x}\")\n"
      ],
      "metadata": {
        "colab": {
          "base_uri": "https://localhost:8080/"
        },
        "id": "YnzGlwvXxFN9",
        "outputId": "3b620995-201f-4af0-a37e-cb6a546290b8"
      },
      "execution_count": 2,
      "outputs": [
        {
          "output_type": "stream",
          "name": "stdout",
          "text": [
            "Solución para el sistema a: [ 1.  2. -1.]\n",
            "Solución para el sistema b: [1. 1. 1.]\n",
            "Solución para el sistema c: [ 1.5  2.  -1.2  3. ]\n",
            "Solución para el sistema d: [2.9398512  0.0706777  5.67773512 4.37981223]\n"
          ]
        }
      ]
    }
  ]
}